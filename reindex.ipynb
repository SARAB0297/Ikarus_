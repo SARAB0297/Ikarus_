{
 "cells": [
  {
   "cell_type": "code",
   "execution_count": 2,
   "id": "fb9831d9",
   "metadata": {},
   "outputs": [
    {
     "name": "stdout",
     "output_type": "stream",
     "text": [
      "Collecting tqdm\n",
      "  Using cached tqdm-4.67.1-py3-none-any.whl.metadata (57 kB)\n",
      "Requirement already satisfied: colorama in c:\\users\\dell\\appdata\\roaming\\python\\python39\\site-packages (from tqdm) (0.4.6)\n",
      "Using cached tqdm-4.67.1-py3-none-any.whl (78 kB)\n",
      "Installing collected packages: tqdm\n",
      "Successfully installed tqdm-4.67.1\n",
      "Note: you may need to restart the kernel to use updated packages.\n"
     ]
    }
   ],
   "source": [
    "pip install tqdm\n"
   ]
  },
  {
   "cell_type": "code",
   "execution_count": 19,
   "id": "35a80b84",
   "metadata": {},
   "outputs": [
    {
     "name": "stdout",
     "output_type": "stream",
     "text": [
      "Collecting pinecone\n",
      "  Downloading pinecone-7.3.0-py3-none-any.whl.metadata (9.5 kB)\n",
      "Requirement already satisfied: certifi>=2019.11.17 in c:\\users\\dell\\appdata\\roaming\\python\\python39\\site-packages (from pinecone) (2025.1.31)\n",
      "Collecting pinecone-plugin-assistant<2.0.0,>=1.6.0 (from pinecone)\n",
      "  Downloading pinecone_plugin_assistant-1.8.0-py3-none-any.whl.metadata (30 kB)\n",
      "Collecting pinecone-plugin-interface<0.0.8,>=0.0.7 (from pinecone)\n",
      "  Using cached pinecone_plugin_interface-0.0.7-py3-none-any.whl.metadata (1.2 kB)\n",
      "Requirement already satisfied: python-dateutil>=2.5.3 in c:\\users\\dell\\appdata\\roaming\\python\\python39\\site-packages (from pinecone) (2.9.0.post0)\n",
      "Requirement already satisfied: typing-extensions>=3.7.4 in c:\\users\\dell\\appdata\\roaming\\python\\python39\\site-packages (from pinecone) (4.14.0)\n",
      "Requirement already satisfied: urllib3>=1.26.0 in c:\\users\\dell\\appdata\\roaming\\python\\python39\\site-packages (from pinecone) (2.4.0)\n",
      "Collecting packaging<25.0,>=24.2 (from pinecone-plugin-assistant<2.0.0,>=1.6.0->pinecone)\n",
      "  Using cached packaging-24.2-py3-none-any.whl.metadata (3.2 kB)\n",
      "Requirement already satisfied: requests<3.0.0,>=2.32.3 in c:\\users\\dell\\appdata\\roaming\\python\\python39\\site-packages (from pinecone-plugin-assistant<2.0.0,>=1.6.0->pinecone) (2.32.3)\n",
      "Requirement already satisfied: charset-normalizer<4,>=2 in c:\\users\\dell\\appdata\\roaming\\python\\python39\\site-packages (from requests<3.0.0,>=2.32.3->pinecone-plugin-assistant<2.0.0,>=1.6.0->pinecone) (3.4.1)\n",
      "Requirement already satisfied: idna<4,>=2.5 in c:\\users\\dell\\appdata\\roaming\\python\\python39\\site-packages (from requests<3.0.0,>=2.32.3->pinecone-plugin-assistant<2.0.0,>=1.6.0->pinecone) (3.10)\n",
      "Requirement already satisfied: six>=1.5 in c:\\users\\dell\\appdata\\roaming\\python\\python39\\site-packages (from python-dateutil>=2.5.3->pinecone) (1.17.0)\n",
      "Downloading pinecone-7.3.0-py3-none-any.whl (587 kB)\n",
      "   ---------------------------------------- 0.0/587.6 kB ? eta -:--:--\n",
      "   ---------------------------------------- 587.6/587.6 kB 6.9 MB/s  0:00:00\n",
      "Downloading pinecone_plugin_assistant-1.8.0-py3-none-any.whl (259 kB)\n",
      "Using cached packaging-24.2-py3-none-any.whl (65 kB)\n",
      "Using cached pinecone_plugin_interface-0.0.7-py3-none-any.whl (6.2 kB)\n",
      "Installing collected packages: pinecone-plugin-interface, packaging, pinecone-plugin-assistant, pinecone\n",
      "\n",
      "   ---------------------------------------- 0/4 [pinecone-plugin-interface]\n",
      "  Attempting uninstall: packaging\n",
      "   ---------------------------------------- 0/4 [pinecone-plugin-interface]\n",
      "    Found existing installation: packaging 25.0\n",
      "   ---------------------------------------- 0/4 [pinecone-plugin-interface]\n",
      "    Uninstalling packaging-25.0:\n",
      "   ---------------------------------------- 0/4 [pinecone-plugin-interface]\n",
      "      Successfully uninstalled packaging-25.0\n",
      "   ---------------------------------------- 0/4 [pinecone-plugin-interface]\n",
      "   ---------- ----------------------------- 1/4 [packaging]\n",
      "   ---------- ----------------------------- 1/4 [packaging]\n",
      "   -------------------- ------------------- 2/4 [pinecone-plugin-assistant]\n",
      "   -------------------- ------------------- 2/4 [pinecone-plugin-assistant]\n",
      "   -------------------- ------------------- 2/4 [pinecone-plugin-assistant]\n",
      "   -------------------- ------------------- 2/4 [pinecone-plugin-assistant]\n",
      "   -------------------- ------------------- 2/4 [pinecone-plugin-assistant]\n",
      "   -------------------- ------------------- 2/4 [pinecone-plugin-assistant]\n",
      "   -------------------- ------------------- 2/4 [pinecone-plugin-assistant]\n",
      "   -------------------- ------------------- 2/4 [pinecone-plugin-assistant]\n",
      "   -------------------- ------------------- 2/4 [pinecone-plugin-assistant]\n",
      "   ------------------------------ --------- 3/4 [pinecone]\n",
      "   ------------------------------ --------- 3/4 [pinecone]\n",
      "   ------------------------------ --------- 3/4 [pinecone]\n",
      "   ------------------------------ --------- 3/4 [pinecone]\n",
      "   ------------------------------ --------- 3/4 [pinecone]\n",
      "   ------------------------------ --------- 3/4 [pinecone]\n",
      "   ------------------------------ --------- 3/4 [pinecone]\n",
      "   ------------------------------ --------- 3/4 [pinecone]\n",
      "   ------------------------------ --------- 3/4 [pinecone]\n",
      "   ------------------------------ --------- 3/4 [pinecone]\n",
      "   ------------------------------ --------- 3/4 [pinecone]\n",
      "   ------------------------------ --------- 3/4 [pinecone]\n",
      "   ------------------------------ --------- 3/4 [pinecone]\n",
      "   ------------------------------ --------- 3/4 [pinecone]\n",
      "   ------------------------------ --------- 3/4 [pinecone]\n",
      "   ------------------------------ --------- 3/4 [pinecone]\n",
      "   ------------------------------ --------- 3/4 [pinecone]\n",
      "   ------------------------------ --------- 3/4 [pinecone]\n",
      "   ------------------------------ --------- 3/4 [pinecone]\n",
      "   ------------------------------ --------- 3/4 [pinecone]\n",
      "   ------------------------------ --------- 3/4 [pinecone]\n",
      "   ------------------------------ --------- 3/4 [pinecone]\n",
      "   ------------------------------ --------- 3/4 [pinecone]\n",
      "   ------------------------------ --------- 3/4 [pinecone]\n",
      "   ------------------------------ --------- 3/4 [pinecone]\n",
      "   ------------------------------ --------- 3/4 [pinecone]\n",
      "   ------------------------------ --------- 3/4 [pinecone]\n",
      "   ------------------------------ --------- 3/4 [pinecone]\n",
      "   ------------------------------ --------- 3/4 [pinecone]\n",
      "   ------------------------------ --------- 3/4 [pinecone]\n",
      "   ------------------------------ --------- 3/4 [pinecone]\n",
      "   ------------------------------ --------- 3/4 [pinecone]\n",
      "   ------------------------------ --------- 3/4 [pinecone]\n",
      "   ---------------------------------------- 4/4 [pinecone]\n",
      "\n",
      "Successfully installed packaging-24.2 pinecone-7.3.0 pinecone-plugin-assistant-1.8.0 pinecone-plugin-interface-0.0.7\n",
      "Note: you may need to restart the kernel to use updated packages.\n"
     ]
    }
   ],
   "source": [
    "pip install pinecone"
   ]
  },
  {
   "cell_type": "code",
   "execution_count": 1,
   "id": "76cb94a3",
   "metadata": {},
   "outputs": [
    {
     "name": "stderr",
     "output_type": "stream",
     "text": [
      "c:\\Users\\DELL\\.conda\\envs\\ikarus\\lib\\site-packages\\tqdm\\auto.py:21: TqdmWarning: IProgress not found. Please update jupyter and ipywidgets. See https://ipywidgets.readthedocs.io/en/stable/user_install.html\n",
      "  from .autonotebook import tqdm as notebook_tqdm\n"
     ]
    }
   ],
   "source": [
    "# Step 1: Imports and path setup\n",
    "import os\n",
    "import json\n",
    "import numpy as np\n",
    "import pandas as pd\n",
    "from tqdm import tqdm\n",
    "from sentence_transformers import SentenceTransformer\n",
    "import pinecone\n",
    "\n",
    "# Paths\n",
    "DATA_PATH = \"../data/preprocessed_products.csv\"\n",
    "EMB_DIR = \"../data/embeddings\"\n",
    "SCHEMA_PATH = \"../pinecone/pinecone_schema.json\"\n",
    "\n",
    "# Make dirs\n",
    "os.makedirs(EMB_DIR, exist_ok=True)\n"
   ]
  },
  {
   "cell_type": "code",
   "execution_count": 2,
   "id": "2de4a97f",
   "metadata": {},
   "outputs": [
    {
     "name": "stdout",
     "output_type": "stream",
     "text": [
      "Loaded: (305, 14)\n"
     ]
    },
    {
     "data": {
      "text/html": [
       "<div>\n",
       "<style scoped>\n",
       "    .dataframe tbody tr th:only-of-type {\n",
       "        vertical-align: middle;\n",
       "    }\n",
       "\n",
       "    .dataframe tbody tr th {\n",
       "        vertical-align: top;\n",
       "    }\n",
       "\n",
       "    .dataframe thead th {\n",
       "        text-align: right;\n",
       "    }\n",
       "</style>\n",
       "<table border=\"1\" class=\"dataframe\">\n",
       "  <thead>\n",
       "    <tr style=\"text-align: right;\">\n",
       "      <th></th>\n",
       "      <th>title</th>\n",
       "      <th>brand</th>\n",
       "      <th>description</th>\n",
       "      <th>price</th>\n",
       "      <th>categories</th>\n",
       "      <th>images</th>\n",
       "      <th>manufacturer</th>\n",
       "      <th>package_dimensions</th>\n",
       "      <th>country_of_origin</th>\n",
       "      <th>material</th>\n",
       "      <th>color</th>\n",
       "      <th>uniq_id</th>\n",
       "      <th>text_blob</th>\n",
       "      <th>primary_category</th>\n",
       "    </tr>\n",
       "  </thead>\n",
       "  <tbody>\n",
       "    <tr>\n",
       "      <th>0</th>\n",
       "      <td>GOYMFK 1pc Free Standing Shoe Rack, Multi-laye...</td>\n",
       "      <td>GOYMFK</td>\n",
       "      <td>multiple shoes, coats, hats, and other items E...</td>\n",
       "      <td>24.99</td>\n",
       "      <td>['Home &amp; Kitchen', 'Storage &amp; Organization', '...</td>\n",
       "      <td>['https://m.media-amazon.com/images/I/416WaLx1...</td>\n",
       "      <td>GOYMFK</td>\n",
       "      <td>2.36\"D x 7.87\"W x 21.6\"H</td>\n",
       "      <td>China</td>\n",
       "      <td>Metal</td>\n",
       "      <td>White</td>\n",
       "      <td>02593e81-5c09-5069-8516-b0b29f439ded</td>\n",
       "      <td>goymfk 1pc free standing shoe rack, multi-laye...</td>\n",
       "      <td>Home &amp; Kitchen</td>\n",
       "    </tr>\n",
       "    <tr>\n",
       "      <th>1</th>\n",
       "      <td>subrtex Leather ding Room, Dining Chairs Set o...</td>\n",
       "      <td>subrtex</td>\n",
       "      <td>subrtex Dining chairs Set of 2</td>\n",
       "      <td>54.09</td>\n",
       "      <td>['Home &amp; Kitchen', 'Furniture', 'Dining Room F...</td>\n",
       "      <td>['https://m.media-amazon.com/images/I/31SejUEW...</td>\n",
       "      <td>Subrtex Houseware INC</td>\n",
       "      <td>18.5\"D x 16\"W x 35\"H</td>\n",
       "      <td>NaN</td>\n",
       "      <td>Sponge</td>\n",
       "      <td>Black</td>\n",
       "      <td>5938d217-b8c5-5d3e-b1cf-e28e340f292e</td>\n",
       "      <td>subrtex leather ding room, dining chairs set o...</td>\n",
       "      <td>Home &amp; Kitchen</td>\n",
       "    </tr>\n",
       "    <tr>\n",
       "      <th>2</th>\n",
       "      <td>Plant Repotting Mat MUYETOL Waterproof Transpl...</td>\n",
       "      <td>MUYETOL</td>\n",
       "      <td>NaN</td>\n",
       "      <td>5.98</td>\n",
       "      <td>['Patio, Lawn &amp; Garden', 'Outdoor Décor', 'Doo...</td>\n",
       "      <td>['https://m.media-amazon.com/images/I/41RgefVq...</td>\n",
       "      <td>MUYETOL</td>\n",
       "      <td>26.8\"L x 26.8\"W</td>\n",
       "      <td>NaN</td>\n",
       "      <td>Polyethylene</td>\n",
       "      <td>Green</td>\n",
       "      <td>b2ede786-3f51-5a45-9a5b-bcf856958cd8</td>\n",
       "      <td>plant repotting mat muyetol waterproof transpl...</td>\n",
       "      <td>Patio, Lawn &amp; Garden</td>\n",
       "    </tr>\n",
       "  </tbody>\n",
       "</table>\n",
       "</div>"
      ],
      "text/plain": [
       "                                               title    brand  \\\n",
       "0  GOYMFK 1pc Free Standing Shoe Rack, Multi-laye...   GOYMFK   \n",
       "1  subrtex Leather ding Room, Dining Chairs Set o...  subrtex   \n",
       "2  Plant Repotting Mat MUYETOL Waterproof Transpl...  MUYETOL   \n",
       "\n",
       "                                         description  price  \\\n",
       "0  multiple shoes, coats, hats, and other items E...  24.99   \n",
       "1                     subrtex Dining chairs Set of 2  54.09   \n",
       "2                                                NaN   5.98   \n",
       "\n",
       "                                          categories  \\\n",
       "0  ['Home & Kitchen', 'Storage & Organization', '...   \n",
       "1  ['Home & Kitchen', 'Furniture', 'Dining Room F...   \n",
       "2  ['Patio, Lawn & Garden', 'Outdoor Décor', 'Doo...   \n",
       "\n",
       "                                              images           manufacturer  \\\n",
       "0  ['https://m.media-amazon.com/images/I/416WaLx1...                 GOYMFK   \n",
       "1  ['https://m.media-amazon.com/images/I/31SejUEW...  Subrtex Houseware INC   \n",
       "2  ['https://m.media-amazon.com/images/I/41RgefVq...                MUYETOL   \n",
       "\n",
       "         package_dimensions country_of_origin      material  color  \\\n",
       "0  2.36\"D x 7.87\"W x 21.6\"H             China         Metal  White   \n",
       "1      18.5\"D x 16\"W x 35\"H               NaN        Sponge  Black   \n",
       "2           26.8\"L x 26.8\"W               NaN  Polyethylene  Green   \n",
       "\n",
       "                                uniq_id  \\\n",
       "0  02593e81-5c09-5069-8516-b0b29f439ded   \n",
       "1  5938d217-b8c5-5d3e-b1cf-e28e340f292e   \n",
       "2  b2ede786-3f51-5a45-9a5b-bcf856958cd8   \n",
       "\n",
       "                                           text_blob      primary_category  \n",
       "0  goymfk 1pc free standing shoe rack, multi-laye...        Home & Kitchen  \n",
       "1  subrtex leather ding room, dining chairs set o...        Home & Kitchen  \n",
       "2  plant repotting mat muyetol waterproof transpl...  Patio, Lawn & Garden  "
      ]
     },
     "execution_count": 2,
     "metadata": {},
     "output_type": "execute_result"
    }
   ],
   "source": [
    "# Step 2: Load cleaned dataset\n",
    "df = pd.read_csv(DATA_PATH)\n",
    "print(\"Loaded:\", df.shape)\n",
    "df.head(3)\n"
   ]
  },
  {
   "cell_type": "code",
   "execution_count": 3,
   "id": "01352a90",
   "metadata": {},
   "outputs": [
    {
     "name": "stderr",
     "output_type": "stream",
     "text": [
      "Batches: 100%|██████████| 10/10 [00:09<00:00,  1.07it/s]"
     ]
    },
    {
     "name": "stdout",
     "output_type": "stream",
     "text": [
      "Embeddings shape: (305, 384)\n",
      "✅ Saved local embeddings to data/embeddings/text_vectors.npy\n"
     ]
    },
    {
     "name": "stderr",
     "output_type": "stream",
     "text": [
      "\n"
     ]
    }
   ],
   "source": [
    "# Step 3: Generate embeddings for text_blob\n",
    "model = SentenceTransformer('all-MiniLM-L6-v2')   # fast + light\n",
    "texts = df['text_blob'].astype(str).tolist()\n",
    "\n",
    "embeddings = model.encode(texts, batch_size=32, show_progress_bar=True, normalize_embeddings=True)\n",
    "print(\"Embeddings shape:\", embeddings.shape)\n",
    "\n",
    "# Save locally\n",
    "np.save(os.path.join(EMB_DIR, \"text_vectors.npy\"), embeddings)\n",
    "print(\"✅ Saved local embeddings to data/embeddings/text_vectors.npy\")\n"
   ]
  },
  {
   "cell_type": "code",
   "execution_count": 47,
   "id": "7cde31ef",
   "metadata": {},
   "outputs": [
    {
     "name": "stdout",
     "output_type": "stream",
     "text": [
      "Requirement already satisfied: pinecone in c:\\users\\dell\\.conda\\envs\\ikarus\\lib\\site-packages (7.3.0)\n",
      "Requirement already satisfied: certifi>=2019.11.17 in c:\\users\\dell\\appdata\\roaming\\python\\python39\\site-packages (from pinecone) (2025.1.31)\n",
      "Requirement already satisfied: pinecone-plugin-assistant<2.0.0,>=1.6.0 in c:\\users\\dell\\.conda\\envs\\ikarus\\lib\\site-packages (from pinecone) (1.8.0)\n",
      "Requirement already satisfied: pinecone-plugin-interface<0.0.8,>=0.0.7 in c:\\users\\dell\\.conda\\envs\\ikarus\\lib\\site-packages (from pinecone) (0.0.7)\n",
      "Requirement already satisfied: python-dateutil>=2.5.3 in c:\\users\\dell\\appdata\\roaming\\python\\python39\\site-packages (from pinecone) (2.9.0.post0)\n",
      "Requirement already satisfied: typing-extensions>=3.7.4 in c:\\users\\dell\\appdata\\roaming\\python\\python39\\site-packages (from pinecone) (4.14.0)\n",
      "Requirement already satisfied: urllib3>=1.26.0 in c:\\users\\dell\\appdata\\roaming\\python\\python39\\site-packages (from pinecone) (2.4.0)\n",
      "Requirement already satisfied: packaging<25.0,>=24.2 in c:\\users\\dell\\.conda\\envs\\ikarus\\lib\\site-packages (from pinecone-plugin-assistant<2.0.0,>=1.6.0->pinecone) (24.2)\n",
      "Requirement already satisfied: requests<3.0.0,>=2.32.3 in c:\\users\\dell\\appdata\\roaming\\python\\python39\\site-packages (from pinecone-plugin-assistant<2.0.0,>=1.6.0->pinecone) (2.32.3)\n",
      "Requirement already satisfied: charset-normalizer<4,>=2 in c:\\users\\dell\\appdata\\roaming\\python\\python39\\site-packages (from requests<3.0.0,>=2.32.3->pinecone-plugin-assistant<2.0.0,>=1.6.0->pinecone) (3.4.1)\n",
      "Requirement already satisfied: idna<4,>=2.5 in c:\\users\\dell\\appdata\\roaming\\python\\python39\\site-packages (from requests<3.0.0,>=2.32.3->pinecone-plugin-assistant<2.0.0,>=1.6.0->pinecone) (3.10)\n",
      "Requirement already satisfied: six>=1.5 in c:\\users\\dell\\appdata\\roaming\\python\\python39\\site-packages (from python-dateutil>=2.5.3->pinecone) (1.17.0)\n",
      "Note: you may need to restart the kernel to use updated packages.\n"
     ]
    }
   ],
   "source": [
    "pip install pinecone"
   ]
  },
  {
   "cell_type": "code",
   "execution_count": null,
   "id": "7e75d65a",
   "metadata": {},
   "outputs": [],
   "source": [
    "from pinecone import Pinecone, ServerlessSpec\n",
    "\n",
    "pc = Pinecone(api_key=\"PINECONE_API_KEY\", environment=\"us-east1-gcp\")"
   ]
  },
  {
   "cell_type": "code",
   "execution_count": null,
   "id": "5c258028",
   "metadata": {},
   "outputs": [],
   "source": []
  },
  {
   "cell_type": "code",
   "execution_count": null,
   "id": "7a896d12",
   "metadata": {},
   "outputs": [
    {
     "name": "stdout",
     "output_type": "stream",
     "text": [
      "✅ Created index 'ikarus-text-embeddings' in us-east-1\n"
     ]
    }
   ],
   "source": [
    "from pinecone import Pinecone, ServerlessSpec\n",
    "\n",
    "pc = Pinecone(api_key=\"PINECONE_API_KEY\")\n",
    "\n",
    "index_name = \"ikarus-text-embeddings\"\n",
    "\n",
    "existing_indexes = [idx[\"name\"] for idx in pc.list_indexes()]\n",
    "\n",
    "# ✅ Choose valid region (use \"us-east-1\" or \"us-west-2\")\n",
    "if index_name not in existing_indexes:\n",
    "    pc.create_index(\n",
    "        name=index_name,\n",
    "        dimension=embeddings.shape[1],\n",
    "        metric=\"cosine\",\n",
    "        spec=ServerlessSpec(cloud=\"aws\", region=\"us-east-1\")  # ✅ valid region\n",
    "    )\n",
    "    print(f\"✅ Created index '{index_name}' in us-east-1\")\n",
    "else:\n",
    "    print(f\"ℹ️ Index '{index_name}' already exists\")\n",
    "\n",
    "index = pc.Index(index_name)\n"
   ]
  },
  {
   "cell_type": "code",
   "execution_count": 12,
   "id": "0b1448e1",
   "metadata": {},
   "outputs": [
    {
     "name": "stderr",
     "output_type": "stream",
     "text": [
      "100%|██████████| 305/305 [00:00<00:00, 3953.56it/s]\n"
     ]
    },
    {
     "name": "stdout",
     "output_type": "stream",
     "text": [
      "✅ Uploaded 100 / 305 vectors\n",
      "✅ Uploaded 200 / 305 vectors\n",
      "✅ Uploaded 300 / 305 vectors\n",
      "✅ Uploaded 305 / 305 vectors\n",
      "✅ Pinecone index population complete.\n"
     ]
    }
   ],
   "source": [
    "# Step 5: Upload embeddings in batches using new SDK\n",
    "from tqdm import tqdm\n",
    "\n",
    "vectors_to_upsert = []\n",
    "for i, row in tqdm(df.iterrows(), total=len(df)):\n",
    "    meta = {\n",
    "        \"uniq_id\": str(row.uniq_id),\n",
    "        \"title\": str(row.title),\n",
    "        \"brand\": str(row.brand),\n",
    "        \"price\": float(row.price),\n",
    "        \"categories\": str(row.categories),\n",
    "        \"primary_category\": str(row.get(\"primary_category\", \"\")),\n",
    "        \"color\": str(row.color),\n",
    "        \"material\": str(row.material)\n",
    "    }\n",
    "    vectors_to_upsert.append({\n",
    "        \"id\": str(row.uniq_id),\n",
    "        \"values\": embeddings[i].tolist(),\n",
    "        \"metadata\": meta\n",
    "    })\n",
    "\n",
    "# batch upload in chunks\n",
    "batch_size = 100\n",
    "for i in range(0, len(vectors_to_upsert), batch_size):\n",
    "    batch = vectors_to_upsert[i:i+batch_size]\n",
    "    index.upsert(vectors=batch)\n",
    "    print(f\"✅ Uploaded {i + len(batch)} / {len(vectors_to_upsert)} vectors\")\n",
    "\n",
    "print(\"✅ Pinecone index population complete.\")\n"
   ]
  },
  {
   "cell_type": "code",
   "execution_count": null,
   "id": "1bc7777e",
   "metadata": {},
   "outputs": [
    {
     "name": "stdout",
     "output_type": "stream",
     "text": [
      "✅ Pinecone schema saved to pinecone_schema.json\n"
     ]
    }
   ],
   "source": [
    "import json\n",
    "\n",
    "# Make sure SCHEMA_PATH is correct\n",
    "SCHEMA_PATH = \"pinecone_schema.json\"  # change to your preferred path/filename\n",
    "\n",
    "schema = {\n",
    "    \"index_name\": index_name,  # your Pinecone index\n",
    "    \"dimension\": embeddings.shape[1],  # embedding vector size\n",
    "    \"metric\": \"cosine\",\n",
    "    \"fields\": [\n",
    "        \"uniq_id\",\n",
    "        \"title\",\n",
    "        \"brand\",\n",
    "        \"price\",\n",
    "        \"categories\",\n",
    "        \"primary_category\",\n",
    "        \"color\",\n",
    "        \"material\"\n",
    "    ]\n",
    "}\n",
    "\n",
    "with open(SCHEMA_PATH, \"w\") as f:\n",
    "    json.dump(schema, f, indent=4)\n",
    "\n",
    "print(f\"✅ Pinecone schema saved to {SCHEMA_PATH}\")\n"
   ]
  },
  {
   "cell_type": "code",
   "execution_count": null,
   "id": "10b1aae1",
   "metadata": {},
   "outputs": [],
   "source": []
  }
 ],
 "metadata": {
  "kernelspec": {
   "display_name": "ikarus",
   "language": "python",
   "name": "python3"
  },
  "language_info": {
   "codemirror_mode": {
    "name": "ipython",
    "version": 3
   },
   "file_extension": ".py",
   "mimetype": "text/x-python",
   "name": "python",
   "nbconvert_exporter": "python",
   "pygments_lexer": "ipython3",
   "version": "3.9.24"
  }
 },
 "nbformat": 4,
 "nbformat_minor": 5
}
